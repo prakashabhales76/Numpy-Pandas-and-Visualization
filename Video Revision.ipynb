{
 "cells": [
  {
   "cell_type": "code",
   "execution_count": 2,
   "id": "09710129-1fdb-4e5b-8c7b-c454267e5523",
   "metadata": {},
   "outputs": [],
   "source": [
    "import numpy as np\n",
    "import pandas as pd"
   ]
  },
  {
   "cell_type": "markdown",
   "id": "06cafddb-e49c-40f6-ac9e-5ee8a3b24198",
   "metadata": {},
   "source": [
    "# write a program swap two numbers without using the third variable\n",
    "Certainly! You can swap two numbers without using a third variable using arithmetic operations like addition and subtraction or bitwise XOR operation."
   ]
  },
  {
   "cell_type": "code",
   "execution_count": 6,
   "id": "9817ec99-8de6-4896-aa6a-1c587b18fd59",
   "metadata": {},
   "outputs": [
    {
     "name": "stdout",
     "output_type": "stream",
     "text": [
      "After swapping:\n",
      "a = 20\n",
      "b = 10\n"
     ]
    }
   ],
   "source": [
    "a = 10     # arithematic operator's \n",
    "b = 20\n",
    "\n",
    "a = a + b\n",
    "b = a - b\n",
    "a = a - b\n",
    "\n",
    "print(\"After swapping:\")\n",
    "print(\"a =\", a)\n",
    "print(\"b =\", b)"
   ]
  },
  {
   "cell_type": "code",
   "execution_count": 5,
   "id": "3e9975e3-ae51-49cf-b0f5-a3c21fcb1da4",
   "metadata": {},
   "outputs": [
    {
     "name": "stdout",
     "output_type": "stream",
     "text": [
      "After swapping:\n",
      "a = 10\n",
      "b = 5\n"
     ]
    }
   ],
   "source": [
    "a = 5     # Bitwise operators \n",
    "b = 10\n",
    "\n",
    "a = a ^ b\n",
    "b = a ^ b\n",
    "a = a ^ b\n",
    "\n",
    "print(\"After swapping:\")\n",
    "print(\"a =\", a)\n",
    "print(\"b =\", b)\n"
   ]
  },
  {
   "cell_type": "markdown",
   "id": "cebf4d6e-48ed-4010-996b-3c84114bcfeb",
   "metadata": {},
   "source": [
    "# Write a program reverse the string\n",
    "This program defines a function reverse_string that takes an input string and returns its reverse by utilizing Python's slicing feature"
   ]
  },
  {
   "cell_type": "code",
   "execution_count": 8,
   "id": "29b400e5-0cb8-4655-a6ad-77e88144fd5c",
   "metadata": {},
   "outputs": [
    {
     "name": "stdout",
     "output_type": "stream",
     "text": [
      "Original string: hello\n",
      "Reversed string: olleh\n"
     ]
    }
   ],
   "source": [
    "def reverse_string(s):   # using def function\n",
    "    return s[::-1]\n",
    "\n",
    "# Test the function\n",
    "original_string = \"hello\"\n",
    "reversed_string = reverse_string(original_string)\n",
    "print(\"Original string:\", original_string)\n",
    "print(\"Reversed string:\", reversed_string)"
   ]
  },
  {
   "cell_type": "code",
   "execution_count": 11,
   "id": "1b283991-c549-4c00-8788-53ea15e2251b",
   "metadata": {},
   "outputs": [
    {
     "data": {
      "text/plain": [
       "['adarsh', 'viswajit', 'ashutosh', 'prakash']"
      ]
     },
     "execution_count": 11,
     "metadata": {},
     "output_type": "execute_result"
    }
   ],
   "source": [
    "a=['prakash','ashutosh','viswajit','adarsh']    # using simple create the list and use reverse\n",
    "a.reverse()\n",
    "a"
   ]
  },
  {
   "cell_type": "markdown",
   "id": "615d804e-1ad3-4985-bd2b-da9e6b273590",
   "metadata": {},
   "source": [
    "# write a program reverse numberm\n",
    "This program defines a function reverse_number that takes a number as input and returns its reverse. "
   ]
  },
  {
   "cell_type": "code",
   "execution_count": 13,
   "id": "cac4efda-5fc7-4736-b544-7719dbad9fd8",
   "metadata": {},
   "outputs": [
    {
     "name": "stdout",
     "output_type": "stream",
     "text": [
      "Original number: 12345\n",
      "Reversed number: 54321\n"
     ]
    }
   ],
   "source": [
    "def reverse_number(num):     # using def function\n",
    "    reversed_num = 0\n",
    "    while num != 0:\n",
    "        digit = num % 10\n",
    "        reversed_num = reversed_num * 10 + digit\n",
    "        num //= 10\n",
    "    return reversed_num\n",
    "\n",
    "# Test the function\n",
    "number = 12345\n",
    "reversed_number = reverse_number(number)\n",
    "print(\"Original number:\", number)\n",
    "print(\"Reversed number:\", reversed_number)\n"
   ]
  },
  {
   "cell_type": "code",
   "execution_count": 15,
   "id": "2d076ea1-c119-47c4-8ec1-18a13cb4eb0d",
   "metadata": {},
   "outputs": [
    {
     "data": {
      "text/plain": [
       "[110, 95, 90, 80, 70, 60, 50, 40, 30, 20, 10]"
      ]
     },
     "execution_count": 15,
     "metadata": {},
     "output_type": "execute_result"
    }
   ],
   "source": [
    "a=[10,20,30,40,50,60,70,80,90,95,110]        # using create the list and use reverse\n",
    "a.reverse() \n",
    "a"
   ]
  },
  {
   "cell_type": "markdown",
   "id": "0a8b9fbd-40ed-450e-b73f-0f89377b292a",
   "metadata": {},
   "source": [
    "# Write a program palindrome number\n",
    "This program defines a function is_palindrome that takes a number as input, converts it to a string, and checks if the string is equal to its reverse. If they are equal, the number is a palindrome; otherwise, it's not.\n",
    "\n",
    "\n"
   ]
  },
  {
   "cell_type": "code",
   "execution_count": 17,
   "id": "cef9d35d-30df-4132-9768-8339c2c20d05",
   "metadata": {},
   "outputs": [
    {
     "name": "stdout",
     "output_type": "stream",
     "text": [
      "12321 is a palindrome.\n"
     ]
    }
   ],
   "source": [
    "def is_palindrome(num):     # here's a Python program to check if a number is a palindrome\n",
    "    original_num = num\n",
    "    reversed_num = 0\n",
    "    \n",
    "    while num > 0:\n",
    "        digit = num % 10\n",
    "        reversed_num = reversed_num * 10 + digit\n",
    "        num //= 10\n",
    "    \n",
    "    return original_num == reversed_num\n",
    "\n",
    "# Test the function\n",
    "number = 12321\n",
    "if is_palindrome(number):\n",
    "    print(number, \"is a palindrome.\")\n",
    "else:\n",
    "    print(number, \"is not a palindrome.\")\n"
   ]
  },
  {
   "cell_type": "code",
   "execution_count": 29,
   "id": "1703e0aa-5ad4-4ac3-bfa5-5d1335191efc",
   "metadata": {},
   "outputs": [
    {
     "name": "stdout",
     "output_type": "stream",
     "text": [
      "1221\n",
      "1221\n",
      "palindrome\n",
      "not palindrome\n"
     ]
    }
   ],
   "source": [
    "num=1221\n",
    "\n",
    "temp=num\n",
    "\n",
    "rev=0\n",
    "\n",
    "while (num>0):\n",
    "    rem=num%10\n",
    "    rev=rev*10+rem\n",
    "    # use to add digit in last suppose in 34 we want\n",
    "    # to make 345 then what we do multiply by 10 then add 5\n",
    "    \n",
    "    num=num//10 # use to access quotient\n",
    "    \n",
    "print(rev)\n",
    "print(temp)\n",
    "\n",
    "if temp==rev:\n",
    "    print('palindrome')\n",
    "    print('not palindrome')"
   ]
  },
  {
   "cell_type": "code",
   "execution_count": 34,
   "id": "0b5a475c-5280-4ed8-995e-350c8adb3996",
   "metadata": {},
   "outputs": [
    {
     "name": "stdin",
     "output_type": "stream",
     "text": [
      "Enter a number:  12321\n"
     ]
    },
    {
     "name": "stdout",
     "output_type": "stream",
     "text": [
      "12321 is a palindrome number.\n"
     ]
    }
   ],
   "source": [
    "# Take input from the user\n",
    "num = int(input(\"Enter a number: \"))\n",
    "\n",
    "# Store a copy of the original number\n",
    "original_num = num\n",
    "\n",
    "# Initialize a variable to store the reversed number\n",
    "reversed_num = 0\n",
    "\n",
    "# Reverse the number\n",
    "while num > 0:\n",
    "    digit = num % 10\n",
    "    reversed_num = (reversed_num * 10) + digit\n",
    "    num = num // 10\n",
    "\n",
    "# Check if the original number is equal to its reverse\n",
    "if original_num == reversed_num:\n",
    "    print(original_num, \"is a palindrome number.\")\n",
    "else:\n",
    "    print(original_num, \"is not a palindrome number.\")"
   ]
  },
  {
   "cell_type": "markdown",
   "id": "51166196-eefc-440d-9c70-37c418ba5763",
   "metadata": {},
   "source": [
    "# Write a proogram find max number in a array\n",
    "This program defines a function find_max that takes an array as input and iterates through it to find the maximum number."
   ]
  },
  {
   "cell_type": "code",
   "execution_count": 18,
   "id": "489ba6fa-cd44-459e-9e83-64a7084ba024",
   "metadata": {},
   "outputs": [
    {
     "name": "stdout",
     "output_type": "stream",
     "text": [
      "The maximum number in the array is: 9\n"
     ]
    }
   ],
   "source": [
    "def find_max(arr):\n",
    "    if not arr:  # If the array is empty\n",
    "        return None\n",
    "    \n",
    "    max_num = arr[0]  # Assume the first element is the maximum\n",
    "    \n",
    "    # Iterate through the array to find the maximum\n",
    "    for num in arr:\n",
    "        if num > max_num:\n",
    "            max_num = num\n",
    "    \n",
    "    return max_num\n",
    "\n",
    "# Example usage\n",
    "array = [3, 7, 2, 9, 5]\n",
    "max_number = find_max(array)\n",
    "print(\"The maximum number in the array is:\", max_number)\n"
   ]
  },
  {
   "cell_type": "code",
   "execution_count": 19,
   "id": "b158a720-3cd3-4cbb-b73d-b22c6bc22d3d",
   "metadata": {},
   "outputs": [
    {
     "name": "stdout",
     "output_type": "stream",
     "text": [
      "The maximum number in the array is: 9\n"
     ]
    }
   ],
   "source": [
    "# Example array     # without using the array function\n",
    "array = [3, 7, 2, 9, 5]\n",
    "\n",
    "# Initialize max_num with the first element of the array\n",
    "max_num = array[0]\n",
    "\n",
    "# Iterate through the array starting from the second element\n",
    "for num in array[1:]:\n",
    "    if num > max_num:\n",
    "        max_num = num\n",
    "\n",
    "print(\"The maximum number in the array is:\", max_num)\n"
   ]
  },
  {
   "cell_type": "markdown",
   "id": "79511798-e55d-4773-abdf-4b7971f3eb63",
   "metadata": {},
   "source": [
    "# Write a program find secound max number in array\n",
    "his code iterates through the array starting from the third element. It initializes max_num with the maximum of the first two elements and second_max with the minimum of the first two elements"
   ]
  },
  {
   "cell_type": "code",
   "execution_count": 21,
   "id": "359c87a5-e9c6-4330-bfd8-a3b2a3b2a479",
   "metadata": {},
   "outputs": [
    {
     "name": "stdout",
     "output_type": "stream",
     "text": [
      "The second maximum number in the array is: 7\n"
     ]
    }
   ],
   "source": [
    "# Example array\n",
    "array = [3, 7, 2, 9, 5]\n",
    "\n",
    "# Initialize max_num and second_max with the first two elements of the array\n",
    "max_num = max(array[0], array[1])\n",
    "second_max = min(array[0], array[1])\n",
    "\n",
    "# Iterate through the array starting from the third element\n",
    "for num in array[2:]:\n",
    "    if num > max_num:\n",
    "        second_max = max_num\n",
    "        max_num = num\n",
    "    elif num > second_max:\n",
    "        second_max = num\n",
    "\n",
    "print(\"The second maximum number in the array is:\", second_max)\n"
   ]
  },
  {
   "cell_type": "code",
   "execution_count": 23,
   "id": "21d0f216-f190-4e31-b82c-5c7bd97d5728",
   "metadata": {},
   "outputs": [
    {
     "name": "stdout",
     "output_type": "stream",
     "text": [
      "The second maximum number in the array is: 7\n"
     ]
    }
   ],
   "source": [
    "# Example array      # small code\n",
    "array = [3, 7, 2, 9, 5]\n",
    "\n",
    "# Sort the array in descending order\n",
    "array.sort(reverse=True)\n",
    "\n",
    "# The second maximum number will be at index 1\n",
    "second_max = array[1]\n",
    "\n",
    "print(\"The second maximum number in the array is:\", second_max)\n"
   ]
  },
  {
   "cell_type": "markdown",
   "id": "3792e2ca-47d4-4db5-b7d0-8254fa9bf4b9",
   "metadata": {},
   "source": [
    "# Fibonacci Series i/p=7  o/p=0,1,1,2,3,5,8\n",
    "This program defines a function fibonacci_series that takes an input number n and generates the Fibonacci series up to that number"
   ]
  },
  {
   "cell_type": "code",
   "execution_count": 26,
   "id": "f5d82276-6518-4d2f-9e18-22c68bb6004a",
   "metadata": {},
   "outputs": [
    {
     "name": "stdout",
     "output_type": "stream",
     "text": [
      "Fibonacci series up to 8 : [0, 1, 1, 2, 3, 5, 8]\n"
     ]
    }
   ],
   "source": [
    "def fibonacci_series(n):\n",
    "    # Initialize the first two Fibonacci numbers\n",
    "    fib_series = [0, 1]\n",
    "    \n",
    "    # Generate the Fibonacci series up to n\n",
    "    while fib_series[-1] + fib_series[-2] <= n:\n",
    "        fib_series.append(fib_series[-1] + fib_series[-2])\n",
    "    \n",
    "    return fib_series\n",
    "\n",
    "# Example usage\n",
    "input_number = 8\n",
    "fib_series = fibonacci_series(input_number)\n",
    "print(\"Fibonacci series up to\", input_number, \":\", fib_series)\n"
   ]
  },
  {
   "cell_type": "code",
   "execution_count": 28,
   "id": "e1f8636d-6eed-4454-a969-3d9a1e5d5d38",
   "metadata": {},
   "outputs": [
    {
     "name": "stdout",
     "output_type": "stream",
     "text": [
      "0 1 1 2 3 5 8 "
     ]
    }
   ],
   "source": [
    "def fib(n):\n",
    "    if n == 0:\n",
    "        return 0\n",
    "    elif n == 1:\n",
    "        return 1\n",
    "    else:\n",
    "        return fib(n - 1) + fib(n - 2)\n",
    " \n",
    " \n",
    "for i in range(7):\n",
    "    print(fib(i), end=\" \") "
   ]
  },
  {
   "cell_type": "markdown",
   "id": "649ad42e-ae19-407d-8131-1477a0661dad",
   "metadata": {},
   "source": [
    "# Write a program given number prime or no"
   ]
  },
  {
   "cell_type": "code",
   "execution_count": 42,
   "id": "1b95d8d7-1e5f-4f0b-8225-e0bf9458b20b",
   "metadata": {},
   "outputs": [
    {
     "name": "stdin",
     "output_type": "stream",
     "text": [
      "enter a number : 7\n"
     ]
    },
    {
     "name": "stdout",
     "output_type": "stream",
     "text": [
      "Its prime number\n"
     ]
    }
   ],
   "source": [
    "num=int(input('enter a number :'))\n",
    "flag=0\n",
    "for i in range(2,num):\n",
    "    if num%i==0:\n",
    "        flag=flag+1\n",
    "if flag ==0:\n",
    "    print('Its prime number')\n",
    "else:\n",
    "    print('not prime')"
   ]
  },
  {
   "cell_type": "markdown",
   "id": "22156a83-0351-4b31-8326-199d5358199e",
   "metadata": {},
   "source": [
    "# Write a program display prime number between 1 to 100\n",
    "This program defines a function is_prime() to check if a number is prime or not. Then, it iterates through numbers from 1 to 100 and prints those which are prime."
   ]
  },
  {
   "cell_type": "code",
   "execution_count": 88,
   "id": "4810c722-2bf9-44ca-a30b-4009a40f2812",
   "metadata": {
    "scrolled": true
   },
   "outputs": [
    {
     "name": "stdout",
     "output_type": "stream",
     "text": [
      "Prime numbers between 1 and 100 are:\n",
      "2\n",
      "3\n",
      "5\n",
      "7\n",
      "11\n",
      "13\n",
      "17\n",
      "19\n",
      "23\n",
      "29\n",
      "31\n",
      "37\n",
      "41\n",
      "43\n",
      "47\n",
      "53\n",
      "59\n",
      "61\n",
      "67\n",
      "71\n",
      "73\n",
      "79\n",
      "83\n",
      "89\n",
      "97\n"
     ]
    }
   ],
   "source": [
    "def is_prime(num):\n",
    "    if num <= 1:\n",
    "        return False\n",
    "    for i in range(2, int(num**0.5) + 1):\n",
    "        if num % i == 0:\n",
    "            return False\n",
    "    return True\n",
    "\n",
    "print(\"Prime numbers between 1 and 100 are:\")\n",
    "for number in range(1, 101):\n",
    "    if is_prime(number):\n",
    "        print(number)"
   ]
  },
  {
   "cell_type": "code",
   "execution_count": 89,
   "id": "8c0f807f-91a8-429d-a344-c0c6ebf8050b",
   "metadata": {
    "scrolled": true
   },
   "outputs": [
    {
     "name": "stdout",
     "output_type": "stream",
     "text": [
      "Prime numbers between 1 and 100 are:\n",
      "2\n",
      "3\n",
      "5\n",
      "7\n",
      "11\n",
      "13\n",
      "17\n",
      "19\n",
      "23\n",
      "29\n",
      "31\n",
      "37\n",
      "41\n",
      "43\n",
      "47\n",
      "53\n",
      "59\n",
      "61\n",
      "67\n",
      "71\n",
      "73\n",
      "79\n",
      "83\n",
      "89\n",
      "97\n"
     ]
    }
   ],
   "source": [
    "print(\"Prime numbers between 1 and 100 are:\")      # small code\n",
    "for num in range(2, 101):\n",
    "    if all(num % i != 0 for i in range(2, int(num**0.5) + 1)):\n",
    "        print(num)"
   ]
  },
  {
   "cell_type": "markdown",
   "id": "8a74fa15-ddd3-41c1-8c70-bcb15fbaccf0",
   "metadata": {},
   "source": [
    "# Write a program in an array 1 to 20 number are stored in random one number is missing find missing number \n",
    "[5,7,6,8,11,10,14,2,3,4,20,18,17,13,12,16,1,9,19]   # o/p is 15"
   ]
  },
  {
   "cell_type": "code",
   "execution_count": 91,
   "id": "2ec9550f-b53b-488d-886a-e1f070accc13",
   "metadata": {},
   "outputs": [
    {
     "name": "stdout",
     "output_type": "stream",
     "text": [
      "The missing number is: 15\n"
     ]
    }
   ],
   "source": [
    "numbers = [5, 7, 6, 8, 11, 10, 14, 2, 3, 4, 20, 18, 17, 13, 12, 16, 1, 9, 19]       # small code\n",
    "missing_number = sum(range(1, 21)) - sum(numbers)\n",
    "print(\"The missing number is:\", missing_number)\n"
   ]
  },
  {
   "cell_type": "code",
   "execution_count": 90,
   "id": "d3086098-eddf-4175-8330-c89958a47525",
   "metadata": {},
   "outputs": [
    {
     "name": "stdout",
     "output_type": "stream",
     "text": [
      "The missing number is: 15\n"
     ]
    }
   ],
   "source": [
    "# Given array\n",
    "numbers = [5, 7, 6, 8, 11, 10, 14, 2, 3, 4, 20, 18, 17, 13, 12, 16, 1, 9, 19]\n",
    "\n",
    "# Calculate the sum of numbers from 1 to 20\n",
    "total_sum = sum(range(1, 21))\n",
    "\n",
    "# Calculate the sum of numbers in the given array\n",
    "array_sum = sum(numbers)\n",
    "\n",
    "# Find the missing number\n",
    "missing_number = total_sum - array_sum\n",
    "\n",
    "print(\"The missing number is:\", missing_number)\n"
   ]
  },
  {
   "cell_type": "markdown",
   "id": "037888e5-20e7-4c7b-a52a-b9a96c0452d0",
   "metadata": {},
   "source": [
    "# write a program find max occurring word in given string\n",
    "string='good morning good evaning good afternoon'  (o/p is 3 times good)"
   ]
  },
  {
   "cell_type": "code",
   "execution_count": 93,
   "id": "5437d88f-cee0-46d4-b0e3-963ba2f49a7a",
   "metadata": {},
   "outputs": [
    {
     "name": "stdout",
     "output_type": "stream",
     "text": [
      "The word with the maximum occurrence is: good\n",
      "It occurs 3 times.\n"
     ]
    }
   ],
   "source": [
    "string = 'good morning good evening good afternoon'\n",
    "\n",
    "# Split the string into words\n",
    "words = string.split()\n",
    "\n",
    "# Count occurrences of each word using a dictionary\n",
    "word_count = {}\n",
    "for word in words:\n",
    "    if word in word_count:\n",
    "        word_count[word] += 1\n",
    "    else:\n",
    "        word_count[word] = 1\n",
    "\n",
    "# Find the word with the maximum occurrence\n",
    "max_word = max(word_count, key=word_count.get)\n",
    "\n",
    "print(\"The word with the maximum occurrence is:\", max_word)\n",
    "print(\"It occurs\", word_count[max_word], \"times.\")"
   ]
  },
  {
   "cell_type": "code",
   "execution_count": 94,
   "id": "876a556d-0b1f-464e-a702-8489a8377cf7",
   "metadata": {},
   "outputs": [
    {
     "name": "stdout",
     "output_type": "stream",
     "text": [
      "The word with the maximum occurrence is: good\n",
      "It occurs 3 times.\n"
     ]
    }
   ],
   "source": [
    "from collections import Counter\n",
    "\n",
    "string = 'good morning good evening good afternoon'\n",
    "word_count = Counter(string.split())\n",
    "max_word = max(word_count, key=word_count.get)\n",
    "\n",
    "print(\"The word with the maximum occurrence is:\", max_word)\n",
    "print(\"It occurs\", word_count[max_word], \"times.\")"
   ]
  },
  {
   "cell_type": "markdown",
   "id": "f3705b04-c13a-4296-b8b3-768114ad5356",
   "metadata": {},
   "source": [
    "# Write a program fing max occuring charector in a given string\n",
    "string='apple'  (o/p is p)"
   ]
  },
  {
   "cell_type": "code",
   "execution_count": 95,
   "id": "2556d2b5-e429-472b-89e8-d9031bcc0072",
   "metadata": {},
   "outputs": [
    {
     "name": "stdout",
     "output_type": "stream",
     "text": [
      "The character with the maximum occurrence is: p\n",
      "It occurs 2 times.\n"
     ]
    }
   ],
   "source": [
    "string = 'apple'\n",
    "\n",
    "# Count occurrences of each character using a dictionary\n",
    "char_count = {}\n",
    "for char in string:\n",
    "    if char in char_count:\n",
    "        char_count[char] += 1\n",
    "    else:\n",
    "        char_count[char] = 1\n",
    "\n",
    "# Find the character with the maximum occurrence\n",
    "max_char = max(char_count, key=char_count.get)\n",
    "max_count = char_count[max_char]\n",
    "\n",
    "print(\"The character with the maximum occurrence is:\", max_char)\n",
    "print(\"It occurs\", max_count, \"times.\")\n"
   ]
  },
  {
   "cell_type": "code",
   "execution_count": 96,
   "id": "7948ebbd-1f93-4a00-a485-5098d2db3514",
   "metadata": {},
   "outputs": [
    {
     "name": "stdout",
     "output_type": "stream",
     "text": [
      "The character with the maximum occurrence is: p\n",
      "It occurs 2 times.\n"
     ]
    }
   ],
   "source": [
    "from collections import Counter\n",
    "\n",
    "string = 'apple'\n",
    "char_count = Counter(string)\n",
    "max_char = max(char_count, key=char_count.get)\n",
    "max_count = char_count[max_char]\n",
    "\n",
    "print(\"The character with the maximum occurrence is:\", max_char)\n",
    "print(\"It occurs\", max_count, \"times.\")\n"
   ]
  },
  {
   "cell_type": "markdown",
   "id": "40f88eca-01eb-4774-829e-94a60b079aae",
   "metadata": {},
   "source": [
    "# Write a program print 1 to 100 number if number divided by 3 or 5 but not both"
   ]
  },
  {
   "cell_type": "code",
   "execution_count": 97,
   "id": "ea4675ff-2816-4938-ad65-d5367b8a74f6",
   "metadata": {
    "scrolled": true
   },
   "outputs": [
    {
     "name": "stdout",
     "output_type": "stream",
     "text": [
      "3\n",
      "5\n",
      "6\n",
      "9\n",
      "10\n",
      "12\n",
      "18\n",
      "20\n",
      "21\n",
      "24\n",
      "25\n",
      "27\n",
      "33\n",
      "35\n",
      "36\n",
      "39\n",
      "40\n",
      "42\n",
      "48\n",
      "50\n",
      "51\n",
      "54\n",
      "55\n",
      "57\n",
      "63\n",
      "65\n",
      "66\n",
      "69\n",
      "70\n",
      "72\n",
      "78\n",
      "80\n",
      "81\n",
      "84\n",
      "85\n",
      "87\n",
      "93\n",
      "95\n",
      "96\n",
      "99\n",
      "100\n"
     ]
    }
   ],
   "source": [
    "for number in range(1, 101):\n",
    "    if (number % 3 == 0 or number % 5 == 0) and not (number % 3 == 0 and number % 5 == 0):\n",
    "        print(number)"
   ]
  },
  {
   "cell_type": "markdown",
   "id": "d5fa7f1e-05bf-4b77-ae8a-66e53bd4f618",
   "metadata": {},
   "source": [
    "# Write a program find number of days between two date"
   ]
  },
  {
   "cell_type": "code",
   "execution_count": 98,
   "id": "b13fba17-c29c-4701-96c4-6c51f3b87a5c",
   "metadata": {},
   "outputs": [
    {
     "name": "stdout",
     "output_type": "stream",
     "text": [
      "Number of days between 2024-06-01 and 2024-07-01 : 30\n"
     ]
    }
   ],
   "source": [
    "from datetime import datetime\n",
    "\n",
    "def days_between_dates(date1, date2):\n",
    "    # Convert the date strings to datetime objects\n",
    "    date1_obj = datetime.strptime(date1, '%Y-%m-%d')\n",
    "    date2_obj = datetime.strptime(date2, '%Y-%m-%d')\n",
    "\n",
    "    # Calculate the difference between the dates\n",
    "    delta = abs(date2_obj - date1_obj)\n",
    "\n",
    "    # Return the number of days as an integer\n",
    "    return delta.days\n",
    "\n",
    "# Example usage:\n",
    "date1 = '2024-06-01'\n",
    "date2 = '2024-07-01'\n",
    "print(\"Number of days between\", date1, \"and\", date2, \":\", days_between_dates(date1, date2))"
   ]
  },
  {
   "cell_type": "code",
   "execution_count": 99,
   "id": "9b6455b6-728d-4484-9001-ae53c0fbfaa6",
   "metadata": {},
   "outputs": [
    {
     "name": "stdout",
     "output_type": "stream",
     "text": [
      "Number of days between 2024-06-01 and 2024-07-01 : 30\n"
     ]
    }
   ],
   "source": [
    "from datetime import datetime\n",
    "\n",
    "date1 = '2024-06-01'\n",
    "date2 = '2024-07-01'\n",
    "\n",
    "days_between = (datetime.strptime(date2, '%Y-%m-%d') - datetime.strptime(date1, '%Y-%m-%d')).days\n",
    "print(\"Number of days between\", date1, \"and\", date2, \":\", days_between)\n"
   ]
  },
  {
   "cell_type": "markdown",
   "id": "c61cf975-a20d-4c21-98c8-634ea7f6b577",
   "metadata": {},
   "source": [
    "# Write a program addition number in single digit \n",
    "a=567 o/p is 5+6+7=18=1+8=9 o/p is 9"
   ]
  },
  {
   "cell_type": "code",
   "execution_count": 2,
   "id": "09505add-1a56-47f2-ac9b-2cac86bfb1f1",
   "metadata": {},
   "outputs": [
    {
     "name": "stdout",
     "output_type": "stream",
     "text": [
      "The single digit addition of 567 is: 9\n"
     ]
    }
   ],
   "source": [
    "def digit_sum(num):\n",
    "    # Convert the number to a string to easily access each digit\n",
    "    num_str = str(num)\n",
    "    \n",
    "    # Initialize the sum\n",
    "    total = sum(int(digit) for digit in num_str)\n",
    "    \n",
    "    # Repeat the process until total is a single digit\n",
    "    while total >= 10:\n",
    "        total = sum(int(digit) for digit in str(total))\n",
    "    \n",
    "    return total\n",
    "\n",
    "# Example usage:\n",
    "number = 567\n",
    "result = digit_sum(number)\n",
    "print(\"The single digit addition of\", number, \"is:\", result)"
   ]
  },
  {
   "cell_type": "code",
   "execution_count": 3,
   "id": "70071b72-0a99-48a0-9ce0-b732eb3c0b48",
   "metadata": {},
   "outputs": [
    {
     "name": "stdout",
     "output_type": "stream",
     "text": [
      "The single digit addition is: 9\n"
     ]
    }
   ],
   "source": [
    "num = 567      # small code\n",
    "while num >= 10:\n",
    "    num = sum(int(digit) for digit in str(num))\n",
    "print(\"The single digit addition is:\", num)"
   ]
  },
  {
   "cell_type": "markdown",
   "id": "579397cc-0004-40b3-bd37-3988495655f3",
   "metadata": {},
   "source": [
    "# Write a program sort array in ascending order\n",
    "array=[5,3,4,2,1]       o/p is 1,2,3,4,5"
   ]
  },
  {
   "cell_type": "code",
   "execution_count": 4,
   "id": "1322a5b4-d309-42ec-b3dd-35cdc62f6df9",
   "metadata": {},
   "outputs": [
    {
     "name": "stdout",
     "output_type": "stream",
     "text": [
      "Sorted array in ascending order: [1, 2, 3, 4, 5]\n"
     ]
    }
   ],
   "source": [
    "array = [5, 3, 4, 2, 1]     # small code\n",
    "sorted_array = sorted(array)\n",
    "print(\"Sorted array in ascending order:\", sorted_array)"
   ]
  },
  {
   "cell_type": "code",
   "execution_count": 63,
   "id": "1f4bfc7e-ac39-4c9f-9d47-7e434528b5aa",
   "metadata": {},
   "outputs": [],
   "source": [
    "# mylist=[2,5,7,5,3,4,5,2]\n",
    "\n",
    "def duplicate(mylist):\n",
    "    empty=[]\n",
    "    ass=[]\n",
    "    \n",
    "    for i in mylist:\n",
    "        if i not in empty:\n",
    "            empty.append(i)\n",
    "            \n",
    "    while empty:\n",
    "        minimum=empty[0]\n",
    "        for i in empty:\n",
    "            if i <minimum:\n",
    "                minimum=i\n",
    "        ass.append(minimum)\n",
    "        empty.remove(minimum)\n",
    "    return ass"
   ]
  },
  {
   "cell_type": "code",
   "execution_count": 65,
   "id": "fdb1d31d-d3e7-4c26-b417-ea243021fb69",
   "metadata": {},
   "outputs": [
    {
     "data": {
      "text/plain": [
       "[1, 2, 3, 4, 5]"
      ]
     },
     "execution_count": 65,
     "metadata": {},
     "output_type": "execute_result"
    }
   ],
   "source": [
    "duplicate([5,3,4,2,1])"
   ]
  },
  {
   "cell_type": "markdown",
   "id": "5d144d01-4900-4483-8ac2-20cd173d3e86",
   "metadata": {},
   "source": [
    "# Write a program factorial numberin recursive"
   ]
  },
  {
   "cell_type": "code",
   "execution_count": 5,
   "id": "2a64791d-3707-4bc2-8afb-9bcfe2418c0b",
   "metadata": {},
   "outputs": [
    {
     "name": "stdout",
     "output_type": "stream",
     "text": [
      "The factorial of 5 is: 120\n"
     ]
    }
   ],
   "source": [
    "def factorial(n):\n",
    "    if n == 0:\n",
    "        return 1\n",
    "    else:\n",
    "        return n * factorial(n-1)\n",
    "\n",
    "# Example usage:\n",
    "number = 5\n",
    "result = factorial(number)\n",
    "print(\"The factorial of\", number, \"is:\", result)"
   ]
  },
  {
   "cell_type": "code",
   "execution_count": 7,
   "id": "c56a3150-052e-42e4-823d-755781d396e1",
   "metadata": {},
   "outputs": [],
   "source": [
    "def factorial(x):    # recursive functions\n",
    "    if x == 0:\n",
    "        return 1\n",
    "    else:\n",
    "        return x * factorial(x-1)  "
   ]
  },
  {
   "cell_type": "code",
   "execution_count": 84,
   "id": "2e3b32aa-547b-4f0d-9bf6-716f297b07bb",
   "metadata": {},
   "outputs": [
    {
     "data": {
      "text/plain": [
       "3628800"
      ]
     },
     "execution_count": 84,
     "metadata": {},
     "output_type": "execute_result"
    }
   ],
   "source": [
    "factorial(10)"
   ]
  },
  {
   "cell_type": "code",
   "execution_count": 70,
   "id": "b31112ea-1ef2-48cd-b891-3e0578381de6",
   "metadata": {},
   "outputs": [
    {
     "name": "stdout",
     "output_type": "stream",
     "text": [
      "0\n",
      "1\n",
      "2\n",
      "6\n",
      "24\n"
     ]
    }
   ],
   "source": [
    "def fact(num):     # factorial series\n",
    "    if num<0:\n",
    "        return 'number invalid'\n",
    "    elif num==1:\n",
    "        return 1\n",
    "    elif num==0:\n",
    "        return 0\n",
    "    else:\n",
    "        return num *fact(num-1)\n",
    "# find the factorial Series\n",
    "for i in range(5):\n",
    "    print(fact(i))"
   ]
  },
  {
   "cell_type": "markdown",
   "id": "d0397b01-d0e6-4417-b464-241ab8620382",
   "metadata": {},
   "source": [
    "# Write a program find perfect number given number is perfect or not"
   ]
  },
  {
   "cell_type": "code",
   "execution_count": 8,
   "id": "a98bd51d-c678-49c6-813f-a71f8b398764",
   "metadata": {},
   "outputs": [
    {
     "name": "stdout",
     "output_type": "stream",
     "text": [
      "28 is a perfect number.\n"
     ]
    }
   ],
   "source": [
    "def is_perfect_number(number):\n",
    "    divisor_sum = sum([divisor for divisor in range(1, number) if number % divisor == 0])\n",
    "    return divisor_sum == number\n",
    "\n",
    "# Example usage:\n",
    "number = 28\n",
    "if is_perfect_number(number):\n",
    "    print(number, \"is a perfect number.\")\n",
    "else:\n",
    "    print(number, \"is not a perfect number.\")\n"
   ]
  },
  {
   "cell_type": "code",
   "execution_count": 11,
   "id": "088e2060-dede-46af-91c5-0d4eb87aa4d1",
   "metadata": {},
   "outputs": [
    {
     "name": "stdout",
     "output_type": "stream",
     "text": [
      "Yes\n"
     ]
    }
   ],
   "source": [
    "number = 28\n",
    "divisor_sum = sum(divisor for divisor in range(1, number) if number % divisor == 0)\n",
    "print(\"Yes\" if divisor_sum == number else \"No\")\n"
   ]
  },
  {
   "cell_type": "markdown",
   "id": "a99525c7-ebb5-4fe8-8200-a4f5a4ae506c",
   "metadata": {},
   "source": [
    "# Write a program Display reverse word\n",
    "a='my name is don'  o/p is don is name my"
   ]
  },
  {
   "cell_type": "code",
   "execution_count": 14,
   "id": "01c802d5-9655-477b-9750-07b94a6d4a84",
   "metadata": {},
   "outputs": [
    {
     "name": "stdout",
     "output_type": "stream",
     "text": [
      "Reversed words: don is name my\n"
     ]
    }
   ],
   "source": [
    "a = 'my name is don'\n",
    "\n",
    "# Split the string into words, reverse their order, and join them back together\n",
    "reversed_string = ' '.join(reversed(a.split()))\n",
    "\n",
    "print(\"Reversed words:\", reversed_string)\n"
   ]
  },
  {
   "cell_type": "code",
   "execution_count": 13,
   "id": "a40bf217-f64e-4b1e-8c73-b9930598acee",
   "metadata": {},
   "outputs": [
    {
     "name": "stdout",
     "output_type": "stream",
     "text": [
      "Reversed words: ym eman si nod\n"
     ]
    }
   ],
   "source": [
    "a = 'my name is don'\n",
    "reverse_words = ' '.join(word[::-1] for word in a.split())\n",
    "print(\"Reversed words:\", reverse_words)"
   ]
  },
  {
   "cell_type": "markdown",
   "id": "7f3a8110-b165-4b56-822c-ba45326e14f0",
   "metadata": {},
   "source": [
    "# Write a program check given number is armstrong or not\n",
    "The is_armstrong() function takes an integer number as input.\n",
    "It converts the number to a string to count its digits and iterate over its digits.\n",
    "It computes the sum of each digit raised to the power of the total number of digits.\n",
    "If the sum equals the original number, it returns True, indicating that the number is an Armstrong number."
   ]
  },
  {
   "cell_type": "code",
   "execution_count": 15,
   "id": "55938b4a-35c3-4c53-a90a-529d2e19ebfc",
   "metadata": {},
   "outputs": [
    {
     "name": "stdout",
     "output_type": "stream",
     "text": [
      "153 is an Armstrong number.\n"
     ]
    }
   ],
   "source": [
    "def is_armstrong(number):\n",
    "    num_str = str(number)\n",
    "    num_digits = len(num_str)\n",
    "    armstrong_sum = sum(int(digit)**num_digits for digit in num_str)\n",
    "    return armstrong_sum == number\n",
    "\n",
    "# Example usage:\n",
    "number = 153\n",
    "if is_armstrong(number):\n",
    "    print(number, \"is an Armstrong number.\")\n",
    "else:\n",
    "    print(number, \"is not an Armstrong number.\")"
   ]
  },
  {
   "cell_type": "code",
   "execution_count": 17,
   "id": "6ef698f3-b942-406d-a8da-202dd2ff0e29",
   "metadata": {},
   "outputs": [
    {
     "name": "stdout",
     "output_type": "stream",
     "text": [
      "Yes\n"
     ]
    }
   ],
   "source": [
    "number = 153       # small code\n",
    "armstrong_sum = sum(int(digit) ** len(str(number)) for digit in str(number))\n",
    "print(\"Yes\" if armstrong_sum == number else \"No\")\n"
   ]
  },
  {
   "cell_type": "markdown",
   "id": "067c04bf-1c6d-4c13-b593-ad632ca4464c",
   "metadata": {},
   "source": [
    "#  Write a program display count of each element in array"
   ]
  },
  {
   "cell_type": "code",
   "execution_count": 18,
   "id": "55e64696-7eb1-4002-9fc7-283805f1fb53",
   "metadata": {},
   "outputs": [
    {
     "name": "stdout",
     "output_type": "stream",
     "text": [
      "Element 1 occurs 4 times.\n",
      "Element 2 occurs 3 times.\n",
      "Element 3 occurs 3 times.\n",
      "Element 4 occurs 2 times.\n",
      "Element 5 occurs 1 times.\n"
     ]
    }
   ],
   "source": [
    "from collections import Counter\n",
    "\n",
    "# Example array\n",
    "array = [1, 2, 3, 1, 2, 1, 3, 4, 5, 4, 3, 2, 1]\n",
    "\n",
    "# Count the occurrences of each element\n",
    "element_count = Counter(array)\n",
    "\n",
    "# Display the count of each element\n",
    "for element, count in element_count.items():\n",
    "    print(f\"Element {element} occurs {count} times.\")\n"
   ]
  },
  {
   "cell_type": "code",
   "execution_count": 19,
   "id": "e38f258e-504c-41e1-9964-b8cf175e3a41",
   "metadata": {},
   "outputs": [
    {
     "name": "stdout",
     "output_type": "stream",
     "text": [
      "{1: 4, 2: 3, 3: 3, 4: 2, 5: 1}\n"
     ]
    }
   ],
   "source": [
    "array = [1, 2, 3, 1, 2, 1, 3, 4, 5, 4, 3, 2, 1]\n",
    "element_count = {x: array.count(x) for x in array}\n",
    "print(element_count)"
   ]
  },
  {
   "cell_type": "markdown",
   "id": "90068d9f-215a-4160-ba16-f73bb65510bb",
   "metadata": {},
   "source": [
    "# Write a program given array and display unique value in array \n",
    "array=[1,4,3,6,4,7,5,2,3,7]    o/p [1,6,5,2]"
   ]
  },
  {
   "cell_type": "code",
   "execution_count": 21,
   "id": "82110c0e-3815-41d0-af9a-c04146f62a6f",
   "metadata": {},
   "outputs": [
    {
     "name": "stdout",
     "output_type": "stream",
     "text": [
      "Unique values in the array: [1, 4, 3, 6, 7, 5, 2]\n"
     ]
    }
   ],
   "source": [
    "array = [1, 4, 3, 6, 4, 7, 5, 2, 3, 7]\n",
    "unique_values = []\n",
    "\n",
    "for element in array:\n",
    "    if element not in unique_values:\n",
    "        unique_values.append(element)\n",
    "\n",
    "print(\"Unique values in the array:\", unique_values)"
   ]
  },
  {
   "cell_type": "markdown",
   "id": "4957c49d-8314-46cf-9196-8e97ac07f4a4",
   "metadata": {},
   "source": [
    "# Write a program remove duplicate from array\n",
    "array=[1,2,3,2,3]    o/p [1,2,3]"
   ]
  },
  {
   "cell_type": "code",
   "execution_count": 23,
   "id": "253a3f3b-77cd-403a-a198-6ff5a00e906b",
   "metadata": {},
   "outputs": [
    {
     "name": "stdout",
     "output_type": "stream",
     "text": [
      "Array with duplicates removed: [1, 2, 3]\n"
     ]
    }
   ],
   "source": [
    "array = [1, 2, 3, 2, 3]\n",
    "unique_array = list(set(array))\n",
    "print(\"Array with duplicates removed:\", unique_array)"
   ]
  },
  {
   "cell_type": "markdown",
   "id": "c1fe009f-7c9c-4ccd-8f46-daef6c0b61a0",
   "metadata": {},
   "source": [
    "# Write a program diisplay number in word (no is less then 9999)\n",
    "a=4623   o/p is four thousend six hundred twenty three"
   ]
  },
  {
   "cell_type": "code",
   "execution_count": 28,
   "id": "2f17379e-9e09-4e43-8b5b-45cfeddd1e3d",
   "metadata": {},
   "outputs": [
    {
     "name": "stdout",
     "output_type": "stream",
     "text": [
      "Number in words: four thousand six hundred twenty three\n"
     ]
    }
   ],
   "source": [
    "def number_to_words(number):\n",
    "    ones = ['', 'one', 'two', 'three', 'four', 'five', 'six', 'seven', 'eight', 'nine']\n",
    "    teens = ['', 'eleven', 'twelve', 'thirteen', 'fourteen', 'fifteen', 'sixteen', 'seventeen', 'eighteen', 'nineteen']\n",
    "    tens = ['', 'ten', 'twenty', 'thirty', 'forty', 'fifty', 'sixty', 'seventy', 'eighty', 'ninety']\n",
    "\n",
    "    if number == 0:\n",
    "        return 'zero'\n",
    "\n",
    "    thousands = ones[number // 1000] + ' thousand '\n",
    "    hundreds = ones[number // 100 % 10] + ' hundred '\n",
    "    tens_and_ones = (teens[number % 100 - 10] if 10 <= number % 100 <= 19 \n",
    "                     else tens[number % 100 // 10] + ' ' + ones[number % 10]) if number % 100 != 0 else ''\n",
    "    \n",
    "    return thousands + hundreds + tens_and_ones\n",
    "\n",
    "# Example usage:\n",
    "number = 4623\n",
    "print(\"Number in words:\", number_to_words(number))\n"
   ]
  },
  {
   "cell_type": "code",
   "execution_count": 31,
   "id": "9f45c325-06d0-439a-b6e9-6f97f7484024",
   "metadata": {},
   "outputs": [
    {
     "name": "stdout",
     "output_type": "stream",
     "text": [
      "four thousand six hundred twenty three\n"
     ]
    }
   ],
   "source": [
    "number = 4623       # without def function\n",
    "\n",
    "ones = ['', 'one', 'two', 'three', 'four', 'five', 'six', 'seven', 'eight', 'nine']\n",
    "teens = ['', 'eleven', 'twelve', 'thirteen', 'fourteen', 'fifteen', 'sixteen', 'seventeen', 'eighteen', 'nineteen']\n",
    "tens = ['', 'ten', 'twenty', 'thirty', 'forty', 'fifty', 'sixty', 'seventy', 'eighty', 'ninety']\n",
    "\n",
    "if number == 0:\n",
    "    print('zero')\n",
    "\n",
    "thousands = ones[number // 1000] + ' thousand '\n",
    "hundreds = ones[number // 100 % 10] + ' hundred '\n",
    "tens_and_ones = (teens[number % 100 - 10] if 10 <= number % 100 <= 19\n",
    "                 else tens[number % 100 // 10] + ' ' + ones[number % 10]) if number % 100 != 0 else ''\n",
    "\n",
    "print(thousands + hundreds + tens_and_ones)\n"
   ]
  },
  {
   "cell_type": "markdown",
   "id": "ea8a4947-226d-4cc4-8eca-72b7da0279ac",
   "metadata": {},
   "source": [
    "# Write a program pattern printing pascale trangle"
   ]
  },
  {
   "cell_type": "code",
   "execution_count": 32,
   "id": "d0e85a94-c7e4-41bf-85d0-6f9966bf7881",
   "metadata": {},
   "outputs": [
    {
     "name": "stdout",
     "output_type": "stream",
     "text": [
      "Pascal's Triangle:\n",
      "       1       \n",
      "      1 1      \n",
      "     1 2 1     \n",
      "    1 3 3 1    \n",
      "   1 4 6 4 1   \n"
     ]
    }
   ],
   "source": [
    "def print_pascals_triangle(num_rows):\n",
    "    triangle = []\n",
    "    for i in range(num_rows):\n",
    "        row = [1] * (i + 1)\n",
    "        for j in range(1, i):\n",
    "            row[j] = triangle[i-1][j-1] + triangle[i-1][j]\n",
    "        triangle.append(row)\n",
    "\n",
    "    # Print Pascal's triangle\n",
    "    for row in triangle:\n",
    "        print(' '.join(map(str, row)).center(num_rows*3))\n",
    "\n",
    "# Example usage:\n",
    "num_rows = 5\n",
    "print(\"Pascal's Triangle:\")\n",
    "print_pascals_triangle(num_rows)\n"
   ]
  },
  {
   "cell_type": "code",
   "execution_count": 34,
   "id": "40a69235-20b3-47e2-a3a5-a58c72a6d744",
   "metadata": {},
   "outputs": [
    {
     "name": "stdout",
     "output_type": "stream",
     "text": [
      "Pascal's Triangle:\n",
      "     1      \n",
      "    1 1     \n",
      "   1 2 1    \n",
      "  1 3 3 1   \n"
     ]
    }
   ],
   "source": [
    "def print_pascals_triangle(num_rows):\n",
    "    row = [1]\n",
    "    for _ in range(num_rows):\n",
    "        print(' '.join(map(str, row)).center(num_rows*3))\n",
    "        row = [1] + [row[i] + row[i+1] for i in range(len(row) - 1)] + [1]\n",
    "\n",
    "# Example usage:\n",
    "num_rows = 4\n",
    "print(\"Pascal's Triangle:\")\n",
    "print_pascals_triangle(num_rows)"
   ]
  },
  {
   "cell_type": "code",
   "execution_count": 35,
   "id": "4acd2ab9-2b0f-4a01-bcbf-fe53e682b354",
   "metadata": {},
   "outputs": [
    {
     "name": "stdout",
     "output_type": "stream",
     "text": [
      "Pascal's Triangle:\n",
      "       1       \n",
      "      1 1      \n",
      "     1 2 1     \n",
      "    1 3 3 1    \n",
      "   1 4 6 4 1   \n"
     ]
    }
   ],
   "source": [
    "def print_pascals_triangle(num_rows):\n",
    "    row = [1]\n",
    "    for _ in range(num_rows):\n",
    "        print(' '.join(map(str, row)).center(num_rows*3))\n",
    "        row = [1] + [row[i] + row[i+1] for i in range(len(row) - 1)] + [1]\n",
    "\n",
    "# Example usage:\n",
    "num_rows = 5\n",
    "print(\"Pascal's Triangle:\")\n",
    "print_pascals_triangle(num_rows)"
   ]
  },
  {
   "cell_type": "markdown",
   "id": "4f2b0f71-b105-415c-85ad-a8898f627a55",
   "metadata": {},
   "source": [
    "# Calendar "
   ]
  },
  {
   "cell_type": "code",
   "execution_count": 86,
   "id": "ce894846-8521-47cd-bea3-680554759076",
   "metadata": {},
   "outputs": [
    {
     "name": "stdout",
     "output_type": "stream",
     "text": [
      "                                                                             December 2022\n",
      "         Monday                 Tuesday                Wednesday                Thursday                 Friday                 Saturday                 Sunday\n",
      "                                                                                    1                       2                       3                       4\n",
      "            5                       6                       7                       8                       9                      10                      11\n",
      "           12                      13                      14                      15                      16                      17                      18\n",
      "           19                      20                      21                      22                      23                      24                      25\n",
      "           26                      27                      28                      29                      30                      31\n",
      "\n"
     ]
    }
   ],
   "source": [
    "import calendar\n",
    "year=2022\n",
    "month=12\n",
    "date=23\n",
    "print(calendar.month(year,month,date))"
   ]
  },
  {
   "cell_type": "code",
   "execution_count": null,
   "id": "5373a239-1bfd-4390-a32c-9a78781d7dfa",
   "metadata": {},
   "outputs": [],
   "source": []
  },
  {
   "cell_type": "code",
   "execution_count": null,
   "id": "6120cc4d-33a7-42cd-b18c-4bcb085a2eba",
   "metadata": {},
   "outputs": [],
   "source": []
  }
 ],
 "metadata": {
  "kernelspec": {
   "display_name": "Python 3 (ipykernel)",
   "language": "python",
   "name": "python3"
  },
  "language_info": {
   "codemirror_mode": {
    "name": "ipython",
    "version": 3
   },
   "file_extension": ".py",
   "mimetype": "text/x-python",
   "name": "python",
   "nbconvert_exporter": "python",
   "pygments_lexer": "ipython3",
   "version": "3.10.11"
  }
 },
 "nbformat": 4,
 "nbformat_minor": 5
}
